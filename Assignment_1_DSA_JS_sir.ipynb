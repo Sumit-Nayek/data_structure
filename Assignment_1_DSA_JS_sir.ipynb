{
  "nbformat": 4,
  "nbformat_minor": 0,
  "metadata": {
    "colab": {
      "provenance": [],
      "authorship_tag": "ABX9TyNz7mb7F68TJdNhiPEzehiE",
      "include_colab_link": true
    },
    "kernelspec": {
      "name": "python3",
      "display_name": "Python 3"
    },
    "language_info": {
      "name": "python"
    }
  },
  "cells": [
    {
      "cell_type": "markdown",
      "metadata": {
        "id": "view-in-github",
        "colab_type": "text"
      },
      "source": [
        "<a href=\"https://colab.research.google.com/github/Sumit-Nayek/data_structure/blob/main/Assignment_1_DSA_JS_sir.ipynb\" target=\"_parent\"><img src=\"https://colab.research.google.com/assets/colab-badge.svg\" alt=\"Open In Colab\"/></a>"
      ]
    },
    {
      "cell_type": "code",
      "source": [
        "# Step 1: Create an array\n",
        "arr = [10, 20, 30, 40, 50]\n",
        "print(\"Initial Array:\", arr)\n",
        "\n",
        "# Step 2: Insertion\n",
        "arr.append(60)  # Add 60 at the end\n",
        "arr.insert(2, 25)  # Add 25 at index 2\n",
        "print(\"After Insertion:\", arr)\n",
        "\n",
        "# Step 3: Deletion\n",
        "arr.remove(40)  # Remove 40 by value\n",
        "del arr[1]  # Remove element at index 1\n",
        "print(\"After Deletion:\", arr)\n",
        "\n",
        "# Step 4: Searching\n",
        "x = 30\n",
        "if x in arr:  # Check if x exists in array\n",
        "    print(f\"{x} found at index {arr.index(x)}\")\n",
        "else:\n",
        "    print(f\"{x} not found in array\")\n"
      ],
      "metadata": {
        "colab": {
          "base_uri": "https://localhost:8080/"
        },
        "id": "c-ljp0JC-XLI",
        "outputId": "a1fae288-f3dc-402f-c491-e34334c9ee6c"
      },
      "execution_count": 7,
      "outputs": [
        {
          "output_type": "stream",
          "name": "stdout",
          "text": [
            "Initial Array: [10, 20, 30, 40, 50]\n",
            "After Insertion: [10, 20, 25, 30, 40, 50, 60]\n",
            "After Deletion: [10, 25, 30, 50, 60]\n",
            "30 found at index 2\n"
          ]
        }
      ]
    },
    {
      "cell_type": "code",
      "execution_count": 1,
      "metadata": {
        "colab": {
          "base_uri": "https://localhost:8080/"
        },
        "id": "IEVma7988ZUc",
        "outputId": "f46da96d-2327-43e7-cb46-e86158ca4482"
      },
      "outputs": [
        {
          "output_type": "stream",
          "name": "stdout",
          "text": [
            "Linked List after insertions:\n",
            "1 -> 2 -> 3 -> None\n"
          ]
        }
      ],
      "source": [
        "## Implementation of the data structure\n",
        "# Node class for linked list\n",
        "class Node:\n",
        "    def __init__(self, data):  # Initializing node with data\n",
        "        self.data = data\n",
        "        self.next = None\n",
        "\n",
        "# Linked List class\n",
        "class LinkedList:\n",
        "    def __init__(self):  # Initializing empty linked list\n",
        "        self.head = None\n",
        "\n",
        "    # Insert at the end\n",
        "    def insert(self, data):  # Adding new node at the end\n",
        "        new_node = Node(data)\n",
        "        if self.head is None:  # Checking if list is empty\n",
        "            self.head = new_node\n",
        "        else:\n",
        "            temp = self.head\n",
        "            while temp.next:  # Traversing to the last node\n",
        "                temp = temp.next\n",
        "            temp.next = new_node\n",
        "\n",
        "    # Display the linked list\n",
        "    def display(self):  # Showing all nodes in the list\n",
        "        temp = self.head\n",
        "        while temp:  # Traversing to display each node\n",
        "            print(temp.data, end=\" -> \")\n",
        "            temp = temp.next\n",
        "        print(\"None\")\n",
        "# Usage for Linked List\n",
        "ll = LinkedList()\n",
        "ll.insert(1)\n",
        "ll.insert(2)\n",
        "ll.insert(3)\n",
        "print(\"Linked List after insertions:\")\n",
        "ll.display()"
      ]
    },
    {
      "cell_type": "code",
      "source": [
        "# Stack class using Linked List\n",
        "class Stack:\n",
        "    def __init__(self):  # Initializing empty stack\n",
        "        self.top = None\n",
        "\n",
        "    # Push element onto stack\n",
        "    def push(self, data):  # Adding element to the top\n",
        "        new_node = Node(data)\n",
        "        new_node.next = self.top\n",
        "        self.top = new_node\n",
        "        print(f\"Pushed {data} onto stack\")\n",
        "\n",
        "    # Display stack elements\n",
        "    def display(self):  # Showing stack from top to bottom\n",
        "        if self.top is None:  # Checking if stack is empty\n",
        "            print(\"Stack is empty\")\n",
        "            return\n",
        "        temp = self.top\n",
        "        print(\"Stack elements (Top to Bottom):\")\n",
        "        while temp:  # Traversing to display each element\n",
        "            print(temp.data, end=\" -> \")\n",
        "            temp = temp.next\n",
        "        print(\"None\")\n",
        "\n",
        "# Usage for Stack\n",
        "st = Stack()\n",
        "st.push(1)\n",
        "st.push(2)\n",
        "st.push(3)\n",
        "st.display()"
      ],
      "metadata": {
        "colab": {
          "base_uri": "https://localhost:8080/"
        },
        "id": "RAhcL9BSxkJq",
        "outputId": "3b38eee9-e6b0-4922-deb1-4d46e4b8e042"
      },
      "execution_count": 4,
      "outputs": [
        {
          "output_type": "stream",
          "name": "stdout",
          "text": [
            "Pushed 1 onto stack\n",
            "Pushed 2 onto stack\n",
            "Pushed 3 onto stack\n",
            "Stack elements (Top to Bottom):\n",
            "3 -> 2 -> 1 -> None\n"
          ]
        }
      ]
    },
    {
      "cell_type": "code",
      "source": [
        "# Queue class using Linked List\n",
        "class Queue:\n",
        "    def __init__(self):  # Initializing empty queue\n",
        "        self.front = None\n",
        "        self.rear = None\n",
        "\n",
        "    # Enqueue: Insert at rear\n",
        "    def enqueue(self, data):  # Adding element at rear\n",
        "        new_node = Node(data)\n",
        "        if self.rear is None:  # Checking if queue is empty\n",
        "            self.front = self.rear = new_node\n",
        "            return\n",
        "        self.rear.next = new_node\n",
        "        self.rear = new_node\n",
        "\n",
        "    # Display queue elements\n",
        "    def display(self):  # Showing queue from front to rear\n",
        "        if self.front is None:  # Checking if queue is empty\n",
        "            print(\"Queue is empty\")\n",
        "            return\n",
        "        temp = self.front\n",
        "        print(\"Queue elements (Front to Rear):\")\n",
        "        while temp:  # Traversing to display each element\n",
        "            print(temp.data, end=\" -> \")\n",
        "            temp = temp.next\n",
        "        print(\"None\")\n",
        "\n",
        "# Usage for Queue\n",
        "q = Queue()\n",
        "q.enqueue(1)\n",
        "q.enqueue(2)\n",
        "q.enqueue(3)\n",
        "q.display()"
      ],
      "metadata": {
        "colab": {
          "base_uri": "https://localhost:8080/"
        },
        "id": "Yi443l4SyFwl",
        "outputId": "f7e95d95-b491-4aa7-f201-a13a7362256f"
      },
      "execution_count": 5,
      "outputs": [
        {
          "output_type": "stream",
          "name": "stdout",
          "text": [
            "Queue elements (Front to Rear):\n",
            "1 -> 2 -> 3 -> None\n"
          ]
        }
      ]
    },
    {
      "cell_type": "code",
      "source": [
        "# Node class for Binary Tree\n",
        "class TreeNode:\n",
        "    def __init__(self, data):  # Initializing node with data\n",
        "        self.data = data\n",
        "        self.left = None\n",
        "        self.right = None\n",
        "\n",
        "# Binary Tree class\n",
        "class BinaryTree:\n",
        "    def __init__(self):  # Initializing empty tree\n",
        "        self.root = None\n",
        "\n",
        "    # Inorder Traversal (Left, Root, Right)\n",
        "    def inorder(self, node):  # Traversing left, root, then right\n",
        "        if node:\n",
        "            self.inorder(node.left)\n",
        "            print(node.data, end=\" \")\n",
        "            self.inorder(node.right)\n",
        "\n",
        "    # Preorder Traversal (Root, Left, Right)\n",
        "    def preorder(self, node):  # Traversing root, then left, then right\n",
        "        if node:\n",
        "            print(node.data, end=\" \")\n",
        "            self.preorder(node.left)\n",
        "            self.preorder(node.right)\n",
        "\n",
        "    # Postorder Traversal (Left, Right, Root)\n",
        "    def postorder(self, node):  # Traversing left, right, then root\n",
        "        if node:\n",
        "            self.postorder(node.left)\n",
        "            self.postorder(node.right)\n",
        "            print(node.data, end=\" \")\n",
        "\n",
        "# Usage for Binary Tree\n",
        "bt = BinaryTree()\n",
        "bt.root = TreeNode(1)\n",
        "bt.root.left = TreeNode(2)\n",
        "bt.root.right = TreeNode(3)\n",
        "print(\"Inorder Traversal:\")\n",
        "bt.inorder(bt.root)\n",
        "print(\"\\nPreorder Traversal:\")\n",
        "bt.preorder(bt.root)\n",
        "print(\"\\nPostorder Traversal:\")\n",
        "bt.postorder(bt.root)"
      ],
      "metadata": {
        "colab": {
          "base_uri": "https://localhost:8080/"
        },
        "id": "ngnDFar_zdct",
        "outputId": "b979a2b7-b60c-407c-debc-979f6836dc59"
      },
      "execution_count": 6,
      "outputs": [
        {
          "output_type": "stream",
          "name": "stdout",
          "text": [
            "Inorder Traversal:\n",
            "2 1 3 \n",
            "Preorder Traversal:\n",
            "1 2 3 \n",
            "Postorder Traversal:\n",
            "2 3 1 "
          ]
        }
      ]
    }
  ]
}