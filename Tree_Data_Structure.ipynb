{
  "nbformat": 4,
  "nbformat_minor": 0,
  "metadata": {
    "colab": {
      "provenance": [],
      "authorship_tag": "ABX9TyOokyjefIndAkYuij0uvj41",
      "include_colab_link": true
    },
    "kernelspec": {
      "name": "python3",
      "display_name": "Python 3"
    },
    "language_info": {
      "name": "python"
    }
  },
  "cells": [
    {
      "cell_type": "markdown",
      "metadata": {
        "id": "view-in-github",
        "colab_type": "text"
      },
      "source": [
        "<a href=\"https://colab.research.google.com/github/Sumit-Nayek/data_structure/blob/main/Tree_Data_Structure.ipynb\" target=\"_parent\"><img src=\"https://colab.research.google.com/assets/colab-badge.svg\" alt=\"Open In Colab\"/></a>"
      ]
    },
    {
      "cell_type": "markdown",
      "source": [
        "# Non-Linear Data Structures Tutorial\n",
        "## Introduction to Non-Linear Data Structures\n",
        "\n",
        "Data structures help organize data for efficient access and modification.\n",
        "\n",
        "- **Linear data structures**: Like arrays or lists—elements in a sequence.\n",
        "- **Non-linear data structures**: Like trees or graphs—elements in hierarchies or networks.\n",
        "\n",
        "Trees are a key non-linear structure for representing relationships."
      ],
      "metadata": {
        "id": "3r5oycZOqjs3"
      }
    },
    {
      "cell_type": "markdown",
      "source": [
        "## 1. Trees\n",
        "\n",
        "A tree is a hierarchical structure with nodes and edges. It has a root node, child nodes, and no cycles.\n",
        "\n",
        "Key terms:\n",
        "- **Node**: Holds data.\n",
        "- **Root**: Top node.\n",
        "- **Leaf**: Node with no children.\n",
        "- **Height**: Longest path from root to leaf.\n",
        "\n",
        "### Real-Life Example\n",
        "A company's organizational chart: CEO (root), department heads (children), employees (leaves).\n"
      ],
      "metadata": {
        "id": "a6aYKMxlqSXe"
      }
    },
    {
      "cell_type": "code",
      "source": [
        "# TreeNode class\n",
        "class TreeNode:\n",
        "    def __init__(self, value):\n",
        "        self.value = value\n",
        "        self.children = []  # List for children\n",
        "\n",
        "    def add_child(self, child_node):\n",
        "        self.children.append(child_node)\n",
        "\n",
        "# Build the tree\n",
        "ceo = TreeNode(\"CEO\")\n",
        "hr = TreeNode(\"HR Head\")\n",
        "tech = TreeNode(\"Tech Head\")\n",
        "ceo.add_child(hr)\n",
        "ceo.add_child(tech)\n",
        "\n",
        "manager1 = TreeNode(\"Manager A\")\n",
        "manager2 = TreeNode(\"Manager B\")\n",
        "tech.add_child(manager1)\n",
        "tech.add_child(manager2)\n",
        "\n",
        "# Print tree function\n",
        "def print_tree(node, level=0):\n",
        "    print(\"  \" * level + node.value)\n",
        "    for child in node.children:\n",
        "        print_tree(child, level + 1)\n",
        "\n",
        "# Run\n",
        "print_tree(ceo)"
      ],
      "metadata": {
        "colab": {
          "base_uri": "https://localhost:8080/"
        },
        "id": "Jbfkn8viqRoh",
        "outputId": "eb56eeef-fc8f-49f2-900b-4105d62d9605"
      },
      "execution_count": 1,
      "outputs": [
        {
          "output_type": "stream",
          "name": "stdout",
          "text": [
            "CEO\n",
            "  HR Head\n",
            "  Tech Head\n",
            "    Manager A\n",
            "    Manager B\n"
          ]
        }
      ]
    },
    {
      "cell_type": "markdown",
      "source": [
        "## 2. Binary Trees\n",
        "\n",
        "A binary tree is a tree where each node has at most two children (left and right).\n",
        "\n",
        "Key terms:\n",
        "- **Left/Right Child**: Positions for children.\n",
        "- **Traversal**: Ways to visit nodes (e.g., in-order: left-root-right).\n",
        "\n",
        "### Real-Life Example\n",
        "A simplified family tree: You (root), parents (left: mom, right: dad), grandparents.\n"
      ],
      "metadata": {
        "id": "Piwoue0PqJJd"
      }
    },
    {
      "cell_type": "code",
      "source": [
        "# BinaryTreeNode class\n",
        "class BinaryTreeNode:\n",
        "    def __init__(self, value):\n",
        "        self.value = value\n",
        "        self.left = None\n",
        "        self.right = None\n",
        "\n",
        "# Insert functions\n",
        "def insert_left(parent, value):\n",
        "    parent.left = BinaryTreeNode(value)\n",
        "\n",
        "def insert_right(parent, value):\n",
        "    parent.right = BinaryTreeNode(value)\n",
        "\n",
        "# In-order traversal\n",
        "def in_order_traversal(node):\n",
        "    if node:\n",
        "        in_order_traversal(node.left)\n",
        "        print(node.value, end=\" \")\n",
        "        in_order_traversal(node.right)\n",
        "\n",
        "# Build tree\n",
        "you = BinaryTreeNode(\"You\")\n",
        "insert_left(you, \"Mom\")\n",
        "insert_right(you, \"Dad\")\n",
        "insert_left(you.left, \"Grandma (Mom's)\")\n",
        "insert_right(you.left, \"Grandpa (Mom's)\")\n",
        "\n",
        "# Run traversal\n",
        "in_order_traversal(you)\n"
      ],
      "metadata": {
        "colab": {
          "base_uri": "https://localhost:8080/"
        },
        "id": "wdbVYGynqEm0",
        "outputId": "3d6bd78e-d66b-4d32-a969-f29d9c8f861a"
      },
      "execution_count": 2,
      "outputs": [
        {
          "output_type": "stream",
          "name": "stdout",
          "text": [
            "Grandma (Mom's) Mom Grandpa (Mom's) You Dad "
          ]
        }
      ]
    },
    {
      "cell_type": "markdown",
      "source": [
        "## 3. Binary Search Trees (BST)\n",
        "\n",
        "A BST is a binary tree where left subtree values < parent, right subtree values > parent. Enables fast search/insert.\n",
        "\n",
        "### Real-Life Example\n",
        "A sorted phone book: Middle name (root), left for earlier names, right for later. Quick lookup.\n"
      ],
      "metadata": {
        "id": "pHqx8Reap_f-"
      }
    },
    {
      "cell_type": "code",
      "source": [
        "# BSTNode class\n",
        "class BSTNode:\n",
        "    def __init__(self, value):\n",
        "        self.value = value\n",
        "        self.left = None\n",
        "        self.right = None\n",
        "\n",
        "# Insert function\n",
        "def insert(node, value):\n",
        "    if node is None:\n",
        "        return BSTNode(value)\n",
        "    if value < node.value:\n",
        "        node.left = insert(node.left, value)\n",
        "    elif value > node.value:\n",
        "        node.right = insert(node.right, value)\n",
        "    return node\n",
        "\n",
        "# Search function\n",
        "def search(node, value):\n",
        "    if node is None or node.value == value:\n",
        "        return node\n",
        "    if value < node.value:\n",
        "        return search(node.left, value)\n",
        "    return search(node.right, value)\n",
        "\n",
        "# Build BST\n",
        "root = None\n",
        "names = [\"John\", \"Alice\", \"Bob\", \"Eve\", \"David\"]\n",
        "for name in names:\n",
        "    root = insert(root, name)\n",
        "\n",
        "# In-order (sorted)\n",
        "in_order_traversal(root)\n",
        "\n",
        "# Search\n",
        "found = search(root, \"Eve\")\n",
        "print(\"\\nFound:\" if found else \"\\nNot Found\", found.value if found else \"\")\n"
      ],
      "metadata": {
        "colab": {
          "base_uri": "https://localhost:8080/"
        },
        "id": "g6Mxlg00p8F2",
        "outputId": "8da86f4f-9ae5-4d84-c95b-ec957b093022"
      },
      "execution_count": 3,
      "outputs": [
        {
          "output_type": "stream",
          "name": "stdout",
          "text": [
            "Alice Bob David Eve John \n",
            "Found: Eve\n"
          ]
        }
      ]
    },
    {
      "cell_type": "markdown",
      "source": [
        "\n",
        "## 4. AVL Trees (Self-Balancing BST)\n",
        "\n",
        "An AVL tree is a BST that balances itself using rotations to keep height difference ≤1 between subtrees. Ensures O(log n) operations.\n",
        "\n",
        "Key terms:\n",
        "- **Balance Factor**: Height left - height right.\n",
        "- **Rotations**: Adjust tree structure.\n",
        "\n",
        "### Real-Life Example\n",
        "A balanced library bookshelf: Books sorted, rearranged if one side gets too heavy for quick access.\n"
      ],
      "metadata": {
        "id": "3pnIde2Op2Xv"
      }
    },
    {
      "cell_type": "code",
      "source": [
        "\n",
        "# AVLNode class\n",
        "class AVLNode:\n",
        "    def __init__(self, value):\n",
        "        self.value = value\n",
        "        self.left = None\n",
        "        self.right = None\n",
        "        self.height = 1\n",
        "\n",
        "# Helper functions\n",
        "def get_height(node):\n",
        "    return node.height if node else 0\n",
        "\n",
        "def update_height(node):\n",
        "    node.height = 1 + max(get_height(node.left), get_height(node.right))\n",
        "\n",
        "def balance_factor(node):\n",
        "    return get_height(node.left) - get_height(node.right)\n",
        "\n",
        "# Rotations\n",
        "def right_rotate(y):\n",
        "    x = y.left\n",
        "    T2 = x.right\n",
        "    x.right = y\n",
        "    y.left = T2\n",
        "    update_height(y)\n",
        "    update_height(x)\n",
        "    return x\n",
        "\n",
        "def left_rotate(x):\n",
        "    y = x.right\n",
        "    T2 = y.left\n",
        "    y.left = x\n",
        "    x.right = T2\n",
        "    update_height(x)\n",
        "    update_height(y)\n",
        "    return y\n",
        "\n",
        "# Insert\n",
        "def insert_avl(node, value):\n",
        "    if node is None:\n",
        "        return AVLNode(value)\n",
        "    if value < node.value:\n",
        "        node.left = insert_avl(node.left, value)\n",
        "    elif value > node.value:\n",
        "        node.right = insert_avl(node.right, value)\n",
        "    update_height(node)\n",
        "    bf = balance_factor(node)\n",
        "    if bf > 1:\n",
        "        if value > node.left.value:\n",
        "            node.left = left_rotate(node.left)\n",
        "        return right_rotate(node)\n",
        "    if bf < -1:\n",
        "        if value < node.right.value:\n",
        "            node.right = right_rotate(node.right)\n",
        "        return left_rotate(node)\n",
        "    return node\n",
        "\n",
        "# Build AVL\n",
        "root_avl = None\n",
        "books = [10, 20, 30, 40, 50]\n",
        "for book in books:\n",
        "    root_avl = insert_avl(root_avl, book)\n",
        "\n",
        "# In-order\n",
        "in_order_traversal(root_avl)\n",
        "\n",
        "# Height\n",
        "print(\"\\nHeight:\", get_height(root_avl))\n"
      ],
      "metadata": {
        "colab": {
          "base_uri": "https://localhost:8080/"
        },
        "id": "qWQcRUXVp03-",
        "outputId": "e4ec8fa6-8e60-4477-daba-1bea3b13cabd"
      },
      "execution_count": 4,
      "outputs": [
        {
          "output_type": "stream",
          "name": "stdout",
          "text": [
            "10 20 30 40 50 \n",
            "Height: 3\n"
          ]
        }
      ]
    },
    {
      "cell_type": "markdown",
      "source": [
        "## Conclusion and Learning Outcomes\n",
        "\n",
        "In this notebook, we explored non-linear data structures starting from basic trees to advanced AVL trees. Key takeaways:\n",
        "- Trees represent hierarchies efficiently.\n",
        "- Binary trees limit branching for simplicity.\n",
        "- BSTs enable fast ordered operations.\n",
        "- AVL trees add balancing for consistent performance.\n",
        "\n",
        "**Learning Outcomes:**\n",
        "- Understand tree concepts and terminology.\n",
        "- Implement and traverse trees in Python.\n",
        "- Recognize when to use each structure (e.g., BST for searching, AVL for balanced ops).\n",
        "- Practice by modifying code—try adding delete functions or more examples!\n"
      ],
      "metadata": {
        "id": "VO_sm8HnprWP"
      }
    }
  ]
}